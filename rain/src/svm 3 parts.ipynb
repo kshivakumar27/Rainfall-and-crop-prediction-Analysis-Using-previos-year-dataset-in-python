{
 "cells": [
  {
   "cell_type": "code",
   "execution_count": 37,
   "metadata": {},
   "outputs": [],
   "source": [
    "import numpy as np \n",
    "import pandas as pd \n",
    "import matplotlib.pyplot as plt\n",
    "import seaborn as sns"
   ]
  },
  {
   "cell_type": "code",
   "execution_count": 38,
   "metadata": {},
   "outputs": [
    {
     "name": "stdout",
     "output_type": "stream",
     "text": [
      "<class 'pandas.core.frame.DataFrame'>\n",
      "RangeIndex: 345 entries, 0 to 344\n",
      "Data columns (total 19 columns):\n",
      "SUBDIVISION    345 non-null object\n",
      "YEAR           345 non-null int64\n",
      "JAN            345 non-null float64\n",
      "FEB            345 non-null float64\n",
      "MAR            345 non-null float64\n",
      "APR            345 non-null float64\n",
      "MAY            345 non-null float64\n",
      "JUN            345 non-null float64\n",
      "JUL            345 non-null float64\n",
      "AUG            345 non-null float64\n",
      "SEP            345 non-null float64\n",
      "OCT            345 non-null float64\n",
      "NOV            345 non-null float64\n",
      "DEC            345 non-null float64\n",
      "ANNUAL         345 non-null float64\n",
      "Jan-Feb        345 non-null float64\n",
      "Mar-May        345 non-null float64\n",
      "Jun-Sep        345 non-null float64\n",
      "Oct-Dec        345 non-null float64\n",
      "dtypes: float64(17), int64(1), object(1)\n",
      "memory usage: 51.3+ KB\n"
     ]
    }
   ],
   "source": [
    "data = pd.read_csv(\"../data/kar.csv\",sep=\",\")\n",
    "data = data.fillna(data.mean())\n",
    "data.info()"
   ]
  },
  {
   "cell_type": "code",
   "execution_count": 39,
   "metadata": {},
   "outputs": [
    {
     "name": "stdout",
     "output_type": "stream",
     "text": [
      "         SUBDIVISION  YEAR  JAN  FEB   MAR   APR    MAY     JUN     JUL  \\\n",
      "0  COASTAL KARNATAKA  1901  1.8  0.6  10.7  52.4   81.6   960.9   991.2   \n",
      "1  COASTAL KARNATAKA  1902  3.2  0.3   4.9  10.2   54.6   698.4  1401.6   \n",
      "2  COASTAL KARNATAKA  1903  0.7  0.0   0.0   4.1  202.8   536.5  1405.5   \n",
      "3  COASTAL KARNATAKA  1904  2.4  0.0   4.8  23.7   93.2  1108.2  1070.0   \n",
      "4  COASTAL KARNATAKA  1905  0.0  0.2   0.0   6.4   83.1   767.3   777.3   \n",
      "\n",
      "     AUG    SEP    OCT    NOV    DEC  ANNUAL  Jan-Feb  Mar-May  Jun-Sep  \\\n",
      "0  606.4  108.0  120.5  104.9   17.8  3056.9      2.4    144.7   2666.6   \n",
      "1  454.2  708.4  180.4   50.8  132.2  3699.2      3.5     69.7   3262.6   \n",
      "2  593.8  304.4  185.0   79.3    5.3  3317.4      0.7    206.9   2840.1   \n",
      "3  465.6  245.3  127.2    0.7    0.0  3141.1      2.4    121.7   2889.1   \n",
      "4  586.9  172.9  222.2   36.1    0.0  2652.3      0.2     89.4   2304.3   \n",
      "\n",
      "   Oct-Dec  \n",
      "0    243.3  \n",
      "1    363.5  \n",
      "2    269.6  \n",
      "3    127.9  \n",
      "4    258.4  \n"
     ]
    }
   ],
   "source": [
    "print(data.head())"
   ]
  },
  {
   "cell_type": "code",
   "execution_count": 40,
   "metadata": {},
   "outputs": [
    {
     "name": "stdout",
     "output_type": "stream",
     "text": [
      "              YEAR         JAN         FEB         MAR         APR  \\\n",
      "count   345.000000  345.000000  345.000000  345.000000  345.000000   \n",
      "mean   1958.000000    2.628488    2.951304    7.655362   32.499420   \n",
      "std      33.244601    5.145426    6.140374   14.510653   22.164135   \n",
      "min    1901.000000    0.000000    0.000000    0.000000    0.000000   \n",
      "25%    1929.000000    0.000000    0.000000    0.600000   15.700000   \n",
      "50%    1958.000000    0.300000    0.300000    3.500000   27.100000   \n",
      "75%    1987.000000    2.600000    2.700000    8.500000   43.800000   \n",
      "max    2015.000000   28.500000   44.300000  161.400000  127.700000   \n",
      "\n",
      "              MAY          JUN          JUL          AUG         SEP  \\\n",
      "count  345.000000   345.000000   345.000000   345.000000  345.000000   \n",
      "mean    87.307826   361.245507   498.973043   335.772174  193.302319   \n",
      "std     83.063360   359.645261   480.124823   305.475266  122.724962   \n",
      "min      3.500000    38.200000    37.000000    28.000000   27.700000   \n",
      "25%     40.200000   101.600000   150.800000   124.400000  113.000000   \n",
      "50%     68.300000   144.400000   234.000000   189.900000  161.700000   \n",
      "75%    100.700000   699.400000   950.200000   535.000000  225.000000   \n",
      "max    699.500000  1361.600000  1904.900000  1579.100000  716.500000   \n",
      "\n",
      "              OCT         NOV         DEC       ANNUAL     Jan-Feb  \\\n",
      "count  345.000000  345.000000  345.000000   345.000000  345.000000   \n",
      "mean   139.794783   49.082319   10.153043  1717.297093    5.554070   \n",
      "std     75.783691   47.757085   18.298057  1234.869715    7.830017   \n",
      "min      3.800000    0.000000    0.000000   470.300000    0.000000   \n",
      "25%     86.200000   12.800000    0.100000   777.900000    0.300000   \n",
      "50%    128.500000   32.700000    2.900000  1034.900000    2.100000   \n",
      "75%    182.400000   74.400000   12.100000  3056.900000    7.600000   \n",
      "max    361.100000  255.200000  159.800000  5553.900000   44.900000   \n",
      "\n",
      "          Mar-May      Jun-Sep     Oct-Dec  \n",
      "count  345.000000   345.000000  345.000000  \n",
      "mean   127.457971  1389.294783  199.031014  \n",
      "std     86.557324  1164.098398   96.699530  \n",
      "min     22.600000   255.100000   11.800000  \n",
      "25%     73.200000   531.300000  130.300000  \n",
      "50%    108.400000   695.700000  185.300000  \n",
      "75%    152.500000  2685.000000  256.600000  \n",
      "max    714.900000  4536.900000  537.200000  \n"
     ]
    }
   ],
   "source": [
    "print(data.describe())"
   ]
  },
  {
   "cell_type": "code",
   "execution_count": 41,
   "metadata": {},
   "outputs": [],
   "source": [
    "def plot_graphs(groundtruth,prediction,title):        \n",
    "    N = 9\n",
    "    ind = np.arange(N)  # the x locations for the groups\n",
    "    width = 0.27       # the width of the bars\n",
    "\n",
    "    fig = plt.figure()\n",
    "    fig.suptitle(title, fontsize=12)\n",
    "    ax = fig.add_subplot(111)\n",
    "    rects1 = ax.bar(ind, groundtruth, width, color='r')\n",
    "    rects2 = ax.bar(ind+width, prediction, width, color='g')\n",
    "\n",
    "    ax.set_ylabel(\"Amount of rainfall\")\n",
    "    ax.set_xticks(ind+width)\n",
    "    ax.set_xticklabels( ('APR', 'MAY', 'JUN', 'JUL','AUG', 'SEP', 'OCT', 'NOV', 'DEC') )\n",
    "    ax.legend( (rects1[0], rects2[0]), ('Ground truth', 'Prediction') )\n",
    "\n",
    "#     autolabel(rects1)\n",
    "    for rect in rects1:\n",
    "        h = rect.get_height()\n",
    "        ax.text(rect.get_x()+rect.get_width()/2., 1.05*h, '%d'%int(h),\n",
    "                ha='center', va='bottom')\n",
    "    for rect in rects2:\n",
    "        h = rect.get_height()\n",
    "        ax.text(rect.get_x()+rect.get_width()/2., 1.05*h, '%d'%int(h),\n",
    "                ha='center', va='bottom')\n",
    "#     autolabel(rects2)\n",
    "\n",
    "    plt.show()"
   ]
  },
  {
   "cell_type": "code",
   "execution_count": 42,
   "metadata": {},
   "outputs": [],
   "source": [
    "from sklearn.model_selection import train_test_split\n",
    "from sklearn.metrics import mean_absolute_error\n",
    "\n",
    "division_data = np.asarray(data[['JAN', 'FEB', 'MAR', 'APR', 'MAY', 'JUN', 'JUL',\n",
    "       'AUG', 'SEP', 'OCT', 'NOV', 'DEC']])\n",
    "\n",
    "X = None; y = None\n",
    "for i in range(division_data.shape[1]-3):\n",
    "    if X is None:\n",
    "        X = division_data[:, i:i+3]\n",
    "        y = division_data[:, i+3]\n",
    "    else:\n",
    "        X = np.concatenate((X, division_data[:, i:i+3]), axis=0)\n",
    "        y = np.concatenate((y, division_data[:, i+3]), axis=0)\n",
    "        \n",
    "X_train, X_test, y_train, y_test = train_test_split(X, y, test_size=0.1, random_state=42)"
   ]
  },
  {
   "cell_type": "code",
   "execution_count": 43,
   "metadata": {},
   "outputs": [],
   "source": [
    "temp = data[['SUBDIVISION','JAN', 'FEB', 'MAR', 'APR', 'MAY', 'JUN', 'JUL',\n",
    "       'AUG', 'SEP', 'OCT', 'NOV', 'DEC']].loc[data['YEAR'] == 2015]\n",
    "\n",
    "data = np.asarray(temp[['JAN', 'FEB', 'MAR', 'APR', 'MAY', 'JUN', 'JUL',\n",
    "       'AUG', 'SEP', 'OCT', 'NOV', 'DEC']].loc[temp['SUBDIVISION'] == 'KARNATAKA'])\n",
    "\n",
    "X_year = None; y_year = None\n",
    "for i in range(data.shape[1]-3):\n",
    "    if X_year is None:\n",
    "        X_year = data[:, i:i+3]\n",
    "        y_year = data[:, i+3]\n",
    "    else:\n",
    "        X_year = np.concatenate((X_year, data[:, i:i+3]), axis=0)\n",
    "        y_year = np.concatenate((y_year, data[:, i+3]), axis=0)"
   ]
  },
  {
   "cell_type": "code",
   "execution_count": 44,
   "metadata": {},
   "outputs": [
    {
     "name": "stdout",
     "output_type": "stream",
     "text": [
      "136.92362419434863\n"
     ]
    }
   ],
   "source": [
    "from sklearn.svm import SVR\n",
    "\n",
    "# SVM model\n",
    "clf = SVR(gamma='auto', C=0.1, epsilon=0.2)\n",
    "clf.fit(X_train, y_train) \n",
    "y_pred = clf.predict(X_test)\n",
    "print(mean_absolute_error(y_test, y_pred))"
   ]
  },
  {
   "cell_type": "code",
   "execution_count": 45,
   "metadata": {},
   "outputs": [
    {
     "name": "stdout",
     "output_type": "stream",
     "text": [
      "_________________________________________________________________\n",
      "Layer (type)                 Output Shape              Param #   \n",
      "=================================================================\n",
      "input_2 (InputLayer)         (None, 3, 1)              0         \n",
      "_________________________________________________________________\n",
      "conv1d_3 (Conv1D)            (None, 3, 64)             192       \n",
      "_________________________________________________________________\n",
      "conv1d_4 (Conv1D)            (None, 3, 128)            16512     \n",
      "_________________________________________________________________\n",
      "flatten_2 (Flatten)          (None, 384)               0         \n",
      "_________________________________________________________________\n",
      "dense_5 (Dense)              (None, 128)               49280     \n",
      "_________________________________________________________________\n",
      "dense_6 (Dense)              (None, 64)                8256      \n",
      "_________________________________________________________________\n",
      "dense_7 (Dense)              (None, 32)                2080      \n",
      "_________________________________________________________________\n",
      "dense_8 (Dense)              (None, 1)                 33        \n",
      "=================================================================\n",
      "Total params: 76,353\n",
      "Trainable params: 76,353\n",
      "Non-trainable params: 0\n",
      "_________________________________________________________________\n"
     ]
    }
   ],
   "source": [
    "from keras.models import Model\n",
    "from keras.layers import Dense, Input, Conv1D, Flatten\n",
    "\n",
    "# NN model\n",
    "inputs = Input(shape=(3,1))\n",
    "x = Conv1D(64, 2, padding='same', activation='elu')(inputs)\n",
    "x = Conv1D(128, 2, padding='same', activation='elu')(x)\n",
    "x = Flatten()(x)\n",
    "x = Dense(128, activation='elu')(x)\n",
    "x = Dense(64, activation='elu')(x)\n",
    "x = Dense(32, activation='elu')(x)\n",
    "x = Dense(1, activation='linear')(x)\n",
    "model = Model(inputs=[inputs], outputs=[x])\n",
    "model.compile(loss='mean_squared_error', optimizer='adamax', metrics=['mae'])\n",
    "model.summary()"
   ]
  },
  {
   "cell_type": "code",
   "execution_count": 46,
   "metadata": {},
   "outputs": [
    {
     "name": "stdout",
     "output_type": "stream",
     "text": [
      "Train on 2514 samples, validate on 280 samples\n",
      "Epoch 1/10\n",
      "2514/2514 [==============================] - 2s 959us/step - loss: 49134.4559 - mean_absolute_error: 117.5974 - val_loss: 39992.2188 - val_mean_absolute_error: 105.2154\n",
      "Epoch 2/10\n",
      "2514/2514 [==============================] - 0s 140us/step - loss: 38271.0826 - mean_absolute_error: 104.8247 - val_loss: 41446.9152 - val_mean_absolute_error: 104.9682\n",
      "Epoch 3/10\n",
      "2514/2514 [==============================] - 0s 175us/step - loss: 35871.0216 - mean_absolute_error: 105.2759 - val_loss: 35978.3554 - val_mean_absolute_error: 104.9015\n",
      "Epoch 4/10\n",
      "2514/2514 [==============================] - 1s 212us/step - loss: 34430.1170 - mean_absolute_error: 105.9485 - val_loss: 35875.2098 - val_mean_absolute_error: 111.2219\n",
      "Epoch 5/10\n",
      "2514/2514 [==============================] - 0s 148us/step - loss: 34530.0648 - mean_absolute_error: 107.5432 - val_loss: 34688.9165 - val_mean_absolute_error: 109.2006\n",
      "Epoch 6/10\n",
      "2514/2514 [==============================] - 0s 147us/step - loss: 33346.2283 - mean_absolute_error: 107.1711 - val_loss: 34397.5040 - val_mean_absolute_error: 103.7086\n",
      "Epoch 7/10\n",
      "2514/2514 [==============================] - 0s 148us/step - loss: 33095.2621 - mean_absolute_error: 106.3328 - val_loss: 34217.5882 - val_mean_absolute_error: 112.0412\n",
      "Epoch 8/10\n",
      "2514/2514 [==============================] - 1s 239us/step - loss: 32604.1578 - mean_absolute_error: 107.0618 - val_loss: 33566.8712 - val_mean_absolute_error: 107.3853\n",
      "Epoch 9/10\n",
      "2514/2514 [==============================] - 0s 176us/step - loss: 33134.1978 - mean_absolute_error: 107.9258 - val_loss: 33492.6781 - val_mean_absolute_error: 106.1787\n",
      "Epoch 10/10\n",
      "2514/2514 [==============================] - 0s 149us/step - loss: 32172.2376 - mean_absolute_error: 104.6862 - val_loss: 35587.0049 - val_mean_absolute_error: 117.1190\n",
      "94.21667860328576\n"
     ]
    }
   ],
   "source": [
    "model.fit(x=np.expand_dims(X_train, axis=2), y=y_train, batch_size=64, epochs=10, verbose=1, validation_split=0.1, shuffle=True)\n",
    "y_pred = model.predict(np.expand_dims(X_test, axis=2))\n",
    "print(mean_absolute_error(y_test, y_pred))"
   ]
  },
  {
   "cell_type": "code",
   "execution_count": null,
   "metadata": {},
   "outputs": [],
   "source": []
  },
  {
   "cell_type": "code",
   "execution_count": null,
   "metadata": {},
   "outputs": [],
   "source": []
  }
 ],
 "metadata": {
  "kernelspec": {
   "display_name": "Python 3",
   "language": "python",
   "name": "python3"
  },
  "language_info": {
   "codemirror_mode": {
    "name": "ipython",
    "version": 3
   },
   "file_extension": ".py",
   "mimetype": "text/x-python",
   "name": "python",
   "nbconvert_exporter": "python",
   "pygments_lexer": "ipython3",
   "version": "3.7.5"
  }
 },
 "nbformat": 4,
 "nbformat_minor": 2
}
