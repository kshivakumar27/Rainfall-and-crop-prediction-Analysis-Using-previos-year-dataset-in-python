{
 "cells": [
  {
   "cell_type": "code",
   "execution_count": 1,
   "metadata": {},
   "outputs": [],
   "source": [
    "import numpy as np \n",
    "import pandas as pd \n",
    "import matplotlib.pyplot as plt\n",
    "import seaborn as sns"
   ]
  },
  {
   "cell_type": "code",
   "execution_count": 2,
   "metadata": {},
   "outputs": [
    {
     "name": "stdout",
     "output_type": "stream",
     "text": [
      "<class 'pandas.core.frame.DataFrame'>\n",
      "RangeIndex: 1000 entries, 0 to 999\n",
      "Data columns (total 25 columns):\n",
      "Patient Id                  1000 non-null object\n",
      "Age                         1000 non-null int64\n",
      "Gender                      1000 non-null int64\n",
      "Air Pollution               1000 non-null int64\n",
      "Alcohol use                 1000 non-null int64\n",
      "Dust Allergy                1000 non-null int64\n",
      "OccuPational Hazards        1000 non-null int64\n",
      "Genetic Risk                1000 non-null int64\n",
      "chronic Lung Disease        1000 non-null int64\n",
      "Balanced Diet               1000 non-null int64\n",
      "Obesity                     1000 non-null int64\n",
      "Smoking                     1000 non-null int64\n",
      "Passive Smoker              1000 non-null int64\n",
      "Chest Pain                  1000 non-null int64\n",
      "Coughing of Blood           1000 non-null int64\n",
      "Fatigue                     1000 non-null int64\n",
      "Weight Loss                 1000 non-null int64\n",
      "Shortness of Breath         1000 non-null int64\n",
      "Wheezing                    1000 non-null int64\n",
      "Swallowing Difficulty       1000 non-null int64\n",
      "Clubbing of Finger Nails    1000 non-null int64\n",
      "Frequent Cold               1000 non-null int64\n",
      "Dry Cough                   1000 non-null int64\n",
      "Snoring                     1000 non-null int64\n",
      "Level                       1000 non-null object\n",
      "dtypes: int64(23), object(2)\n",
      "memory usage: 195.4+ KB\n"
     ]
    }
   ],
   "source": [
    "data = pd.read_csv(\"../data/can1.csv\",sep=\",\")\n",
    "data = data.fillna(data.mean())\n",
    "data.info()"
   ]
  },
  {
   "cell_type": "code",
   "execution_count": 3,
   "metadata": {},
   "outputs": [
    {
     "name": "stdout",
     "output_type": "stream",
     "text": [
      "  Patient Id  Age  Gender  Air Pollution  Alcohol use  Dust Allergy  \\\n",
      "0         P1   33       1              2            4             5   \n",
      "1        P10   17       1              3            1             5   \n",
      "2       P100   35       1              4            5             6   \n",
      "3      P1000   37       1              7            7             7   \n",
      "4       P101   46       1              6            8             7   \n",
      "\n",
      "   OccuPational Hazards  Genetic Risk  chronic Lung Disease  Balanced Diet  \\\n",
      "0                     4             3                     2              2   \n",
      "1                     3             4                     2              2   \n",
      "2                     5             5                     4              6   \n",
      "3                     7             6                     7              7   \n",
      "4                     7             7                     6              7   \n",
      "\n",
      "   ...  Fatigue  Weight Loss  Shortness of Breath  Wheezing  \\\n",
      "0  ...        3            4                    2         2   \n",
      "1  ...        1            3                    7         8   \n",
      "2  ...        8            7                    9         2   \n",
      "3  ...        4            2                    3         1   \n",
      "4  ...        3            2                    4         1   \n",
      "\n",
      "   Swallowing Difficulty  Clubbing of Finger Nails  Frequent Cold  Dry Cough  \\\n",
      "0                      3                         1              2          3   \n",
      "1                      6                         2              1          7   \n",
      "2                      1                         4              6          7   \n",
      "3                      4                         5              6          7   \n",
      "4                      4                         2              4          2   \n",
      "\n",
      "   Snoring   Level  \n",
      "0        4     Low  \n",
      "1        2  Medium  \n",
      "2        2    High  \n",
      "3        5    High  \n",
      "4        3    High  \n",
      "\n",
      "[5 rows x 25 columns]\n"
     ]
    }
   ],
   "source": [
    "print(data.head())"
   ]
  },
  {
   "cell_type": "code",
   "execution_count": 4,
   "metadata": {},
   "outputs": [
    {
     "name": "stdout",
     "output_type": "stream",
     "text": [
      "               Age       Gender  Air Pollution  Alcohol use  Dust Allergy  \\\n",
      "count  1000.000000  1000.000000      1000.0000  1000.000000   1000.000000   \n",
      "mean     37.174000     1.402000         3.8400     4.563000      5.165000   \n",
      "std      12.005493     0.490547         2.0304     2.620477      1.980833   \n",
      "min      14.000000     1.000000         1.0000     1.000000      1.000000   \n",
      "25%      27.750000     1.000000         2.0000     2.000000      4.000000   \n",
      "50%      36.000000     1.000000         3.0000     5.000000      6.000000   \n",
      "75%      45.000000     2.000000         6.0000     7.000000      7.000000   \n",
      "max      73.000000     2.000000         8.0000     8.000000      8.000000   \n",
      "\n",
      "       OccuPational Hazards  Genetic Risk  chronic Lung Disease  \\\n",
      "count           1000.000000   1000.000000           1000.000000   \n",
      "mean               4.840000      4.580000              4.380000   \n",
      "std                2.107805      2.126999              1.848518   \n",
      "min                1.000000      1.000000              1.000000   \n",
      "25%                3.000000      2.000000              3.000000   \n",
      "50%                5.000000      5.000000              4.000000   \n",
      "75%                7.000000      7.000000              6.000000   \n",
      "max                8.000000      7.000000              7.000000   \n",
      "\n",
      "       Balanced Diet      Obesity  ...  Coughing of Blood      Fatigue  \\\n",
      "count    1000.000000  1000.000000  ...        1000.000000  1000.000000   \n",
      "mean        4.491000     4.465000  ...           4.859000     3.856000   \n",
      "std         2.135528     2.124921  ...           2.427965     2.244616   \n",
      "min         1.000000     1.000000  ...           1.000000     1.000000   \n",
      "25%         2.000000     3.000000  ...           3.000000     2.000000   \n",
      "50%         4.000000     4.000000  ...           4.000000     3.000000   \n",
      "75%         7.000000     7.000000  ...           7.000000     5.000000   \n",
      "max         7.000000     7.000000  ...           9.000000     9.000000   \n",
      "\n",
      "       Weight Loss  Shortness of Breath     Wheezing  Swallowing Difficulty  \\\n",
      "count  1000.000000          1000.000000  1000.000000            1000.000000   \n",
      "mean      3.855000             4.240000     3.777000               3.746000   \n",
      "std       2.206546             2.285087     2.041921               2.270383   \n",
      "min       1.000000             1.000000     1.000000               1.000000   \n",
      "25%       2.000000             2.000000     2.000000               2.000000   \n",
      "50%       3.000000             4.000000     4.000000               4.000000   \n",
      "75%       6.000000             6.000000     5.000000               5.000000   \n",
      "max       8.000000             9.000000     8.000000               8.000000   \n",
      "\n",
      "       Clubbing of Finger Nails  Frequent Cold    Dry Cough      Snoring  \n",
      "count               1000.000000    1000.000000  1000.000000  1000.000000  \n",
      "mean                   3.923000       3.536000     3.853000     2.926000  \n",
      "std                    2.388048       1.832502     2.039007     1.474686  \n",
      "min                    1.000000       1.000000     1.000000     1.000000  \n",
      "25%                    2.000000       2.000000     2.000000     2.000000  \n",
      "50%                    4.000000       3.000000     4.000000     3.000000  \n",
      "75%                    5.000000       5.000000     6.000000     4.000000  \n",
      "max                    9.000000       7.000000     7.000000     7.000000  \n",
      "\n",
      "[8 rows x 23 columns]\n"
     ]
    }
   ],
   "source": [
    "print(data.describe())"
   ]
  },
  {
   "cell_type": "code",
   "execution_count": 5,
   "metadata": {},
   "outputs": [
    {
     "name": "stdout",
     "output_type": "stream",
     "text": [
      "AxesSubplot(0.125,0.125;0.775x0.755)\n"
     ]
    },
    {
     "data": {
      "image/png": "[encoded data removed]",
      "text/plain": [
       "<Figure size 720x288 with 1 Axes>"
      ]
     },
     "metadata": {
      "needs_background": "light"
     },
     "output_type": "display_data"
    }
   ],
   "source": [
    "print(data.groupby(\"Smoking\").sum()['Age'].plot(figsize=(10,4)))"
   ]
  },
  {
   "cell_type": "code",
   "execution_count": 6,
   "metadata": {},
   "outputs": [
    {
     "data": {
      "text/plain": [
       "<matplotlib.axes._subplots.AxesSubplot at 0x1cae211e708>"
      ]
     },
     "execution_count": 6,
     "metadata": {},
     "output_type": "execute_result"
    },
    {
     "data": {
      "image/png": "[encoded data removed]",
      "text/plain": [
       "<Figure size 720x288 with 1 Axes>"
      ]
     },
     "metadata": {
      "needs_background": "light"
     },
     "output_type": "display_data"
    }
   ],
   "source": [
    "data.groupby(\"Alcohol use\").sum()['Age'].plot(figsize=(10,4))"
   ]
  },
  {
   "cell_type": "code",
   "execution_count": 7,
   "metadata": {},
   "outputs": [],
   "source": [
    "\n",
    "def plot_graphs(groundtruth,prediction,title):        \n",
    "    N = 9\n",
    "    ind = np.arange(N)  \n",
    "    width = 0.27       \n",
    "\n",
    "    fig = plt.figure()\n",
    "    fig.suptitle(title, fontsize=12)\n",
    "    ax = fig.add_subplot(111)\n",
    "    rects1 = ax.bar(ind, groundtruth, width, color='r')\n",
    "    rects2 = ax.bar(ind+width, prediction, width, color='g')\n",
    "\n",
    "    ax.set_ylabel(\"l\")\n",
    "    ax.set_xticks(ind+width)\n",
    "    ax.set_xticklabels( ('Dry Cough','Snoring','Gender','Air Pollution','Alcohol use','Dust Allergy','OccuPational Hazards','Genetic Risk','chronic Lung Disease','Balanced Diet','Obesity','Smoking','Passive Smoker','Chest Pain','Coughing of Blood','Fatigue','Weight Loss','Shortness of Breath','Wheezing','Swallowing Difficulty','Clubbing of Finger Nails','Frequent Cold') )\n",
    "    ax.legend( (rects1[0], rects2[0]), ('Ground truth', 'Prediction') )\n",
    "\n",
    "#     autolabel(rects1)\n",
    "    for rect in rects1:\n",
    "        h = rect.get_height()\n",
    "        ax.text(rect.get_x()+rect.get_width()/2., 1.05*h, '%d'%int(h),\n",
    "                ha='center', va='bottom')\n",
    "    for rect in rects2:\n",
    "        h = rect.get_height()\n",
    "        ax.text(rect.get_x()+rect.get_width()/2., 1.05*h, '%d'%int(h),\n",
    "                ha='center', va='bottom')\n",
    "#     autolabel(rects2)\n",
    "\n",
    "    plt.show()"
   ]
  },
  {
   "cell_type": "code",
   "execution_count": 8,
   "metadata": {},
   "outputs": [
    {
     "name": "stderr",
     "output_type": "stream",
     "text": [
      "C:\\Users\\User\\Anaconda3\\envs\\anacondaenv\\lib\\site-packages\\pandas\\core\\ops\\__init__.py:1115: FutureWarning: elementwise comparison failed; returning scalar instead, but in the future will perform elementwise comparison\n",
      "  result = method(y)\n"
     ]
    }
   ],
   "source": [
    "\n",
    "from sklearn.model_selection import train_test_split\n",
    "from sklearn.metrics import mean_absolute_error\n",
    "temp = data[['Age','Gender','Air Pollution','Alcohol use','Dust Allergy','OccuPational Hazards','Genetic Risk','chronic Lung Disease','Balanced Diet','Obesity','Smoking','Passive Smoker','Chest Pain','Coughing of Blood','Fatigue','Weight Loss','Shortness of Breath','Wheezing','Swallowing Difficulty','Clubbing of Finger Nails','Frequent Cold','Dry Cough','Snoring']].loc[data['Smoking'] == 'Age']\n",
    "division_data = np.asarray(data[['Age','Gender','Air Pollution','Alcohol use','Dust Allergy','OccuPational Hazards','Genetic Risk','chronic Lung Disease','Balanced Diet','Obesity','Smoking','Passive Smoker','Chest Pain','Coughing of Blood','Fatigue','Weight Loss','Shortness of Breath','Wheezing','Swallowing Difficulty','Clubbing of Finger Nails','Frequent Cold','Dry Cough','Snoring']])\n",
    "\n",
    "X = None; y = None\n",
    "for i in range(division_data.shape[1]-3):\n",
    "    if X is None:\n",
    "        X = division_data[:, i:i+3]\n",
    "        y = division_data[:, i+3]\n",
    "    else:\n",
    "        X = np.concatenate((X, division_data[:, i:i+3]), axis=0)\n",
    "        y = np.concatenate((y, division_data[:, i+3]), axis=0)\n",
    "        \n",
    "X_train, X_test, y_train, y_test = train_test_split(X, y, test_size=0.03, random_state=42)"
   ]
  },
  {
   "cell_type": "code",
   "execution_count": 9,
   "metadata": {},
   "outputs": [],
   "source": [
    "#temp = data[['Age','Gender','Air Pollution','Alcohol use','Dust Allergy','OccuPational Hazards','Genetic Risk','chronic Lung Disease','Balanced Diet','Obesity','Smoking','Passive Smoker','Chest Pain','Coughing of Blood','Fatigue','Weight Loss','Shortness of Breath','Wheezing','Swallowing Difficulty','Clubbing of Finger Nails','Frequent Cold','Dry Cough','Snoring']].loc[data['Smoking'] == 'Age']\n",
    "#can = np.asarray(temp[['Age','Gender','Air Pollution','Alcohol use','Dust Allergy','OccuPational Hazards','Genetic Risk','chronic Lung Disease','Balanced Diet','Obesity','Smoking','Passive Smoker','Chest Pain','Coughing of Blood','Fatigue','Weight Loss','Shortness of Breath','Wheezing','Swallowing Difficulty','Clubbing of Finger Nails','Frequent Cold','Dry Cough','Snoring']].loc[temp['Snoring'] == 'Gender'])\n",
    "# print temp\n"
   ]
  },
  {
   "cell_type": "code",
   "execution_count": 10,
   "metadata": {},
   "outputs": [
    {
     "name": "stdout",
     "output_type": "stream",
     "text": [
      "0.942544270239548\n",
      "[[7 7 7]\n",
      " [2 3 1]\n",
      " [2 4 1]\n",
      " ...\n",
      " [2 6 8]\n",
      " [2 4 3]\n",
      " [3 1 3]]\n"
     ]
    }
   ],
   "source": [
    "from sklearn.svm import SVR\n",
    "\n",
    "# SVM model\n",
    "clf = SVR(gamma='auto', C=0.1, epsilon=0.2)\n",
    "clf.fit(X_train, y_train) \n",
    "y_pred = clf.predict(X_test)\n",
    "print(mean_absolute_error(y_test, y_pred))\n",
    "print(X_test)\n",
    "#print(y_pred)"
   ]
  },
  {
   "cell_type": "code",
   "execution_count": 18,
   "metadata": {},
   "outputs": [
    {
     "name": "stdout",
     "output_type": "stream",
     "text": [
      "(array([8, 4, 2, 7, 3, 6, 6, 5, 5, 7, 7, 2, 4, 9, 6, 6, 2, 7, 7, 8, 7, 8,\n",
      "       2, 6, 6, 4, 4, 4, 2, 7, 2, 4, 4, 7, 3, 7, 3, 1, 5, 3, 8, 3, 3, 1,\n",
      "       3, 2, 2, 7, 5, 2, 2, 2, 2, 6, 1, 7, 7, 1, 1, 4, 8, 3, 3, 3, 3, 7,\n",
      "       3, 7, 3, 4, 5, 7, 7, 3, 3, 4, 5, 5, 4, 2, 2, 1, 4, 2, 2, 1, 4, 6,\n",
      "       3, 9, 6, 9, 4, 1, 5, 2, 2, 8, 5, 5, 1, 6, 3, 4, 6, 7, 7, 4, 4, 4,\n",
      "       7, 4, 6, 2, 6, 7, 2, 6, 2, 6, 1, 6, 6, 7, 7, 5, 2, 3, 2, 4, 9, 2,\n",
      "       7, 2, 4, 1, 7, 9, 4, 4, 6, 6, 7, 3, 7, 1, 2, 2, 2, 3, 4, 3, 8, 3,\n",
      "       2, 2, 2, 3, 7, 3, 7, 7, 4, 6, 2, 4, 3, 2, 3, 6, 2, 2, 3, 7, 4, 2,\n",
      "       5, 1, 4, 4, 1, 4, 1, 4, 5, 7, 2, 7, 7, 2, 6, 2, 4, 3, 2, 3, 5, 7,\n",
      "       5, 7, 2, 6, 2, 7, 3, 2, 7, 7, 3, 6, 3, 4, 9, 3, 6, 2, 7, 6, 7, 2,\n",
      "       7, 3, 6, 8, 7, 3, 2, 6, 3, 4, 3, 6, 7, 2, 4, 7, 5, 1, 3, 4, 1, 8,\n",
      "       5, 7, 4, 1, 3, 7, 2, 6, 4, 2, 4, 2, 7, 7, 7, 3, 4, 6, 6, 3, 2, 7,\n",
      "       3, 3, 4, 3, 4, 7, 7, 1, 2, 1, 1, 6, 8, 2, 4, 5, 7, 1, 4, 4, 3, 7,\n",
      "       2, 3, 5, 2, 4, 7, 5, 2, 2, 8, 3, 3, 7, 2, 3, 5, 3, 3, 3, 7, 1, 2,\n",
      "       6, 3, 3, 3, 6, 6, 3, 7, 2, 7, 3, 3, 7, 7, 2, 7, 4, 7, 7, 5, 2, 7,\n",
      "       3, 7, 4, 2, 4, 2, 4, 3, 4, 2, 3, 3, 3, 2, 2, 1, 1, 7, 2, 7, 1, 7,\n",
      "       5, 2, 2, 4, 7, 1, 2, 9, 2, 2, 6, 2, 1, 4, 5, 4, 2, 5, 1, 3, 4, 5,\n",
      "       6, 5, 2, 8, 7, 8, 6, 5, 1, 6, 4, 2, 2, 2, 2, 7, 2, 7, 1, 7, 5, 4,\n",
      "       4, 2, 3, 7, 7, 7, 3, 3, 7, 8, 9, 4, 4, 2, 3, 7, 7, 3, 7, 8, 3, 3,\n",
      "       3, 2, 6, 6, 9, 4, 4, 7, 3, 2, 7, 2, 3, 3, 7, 6, 3, 5, 3, 3, 4, 4,\n",
      "       2, 2, 7, 6, 3, 9, 3, 5, 2, 2, 1, 5, 2, 5, 2, 1, 5, 2, 2, 8, 8, 4,\n",
      "       7, 5, 3, 3, 4, 2, 7, 2, 2, 7, 7, 4, 6, 2, 6, 6, 3, 2, 2, 2, 2, 2,\n",
      "       7, 4, 4, 7, 1, 1, 7, 6, 1, 1, 2, 2, 6, 8, 2, 7, 4, 1, 7, 6, 2, 9,\n",
      "       4, 6, 5, 7, 5, 5, 2, 4, 1, 2, 4, 7, 6, 3, 6, 6, 1, 3, 6, 3, 2, 4,\n",
      "       7, 3, 1, 6, 2, 3, 4, 3, 3, 3, 5, 2, 7, 4, 7, 7, 3, 3, 2, 6, 2, 1,\n",
      "       7, 7, 7, 1, 3, 4, 3, 7, 1, 8, 6, 4, 3, 9, 5, 7, 8, 4, 5, 3, 7, 2,\n",
      "       5, 3, 3, 6, 7, 4, 1, 5, 4, 3, 4, 7, 2, 7, 2, 3, 3, 2, 7, 3, 7, 5,\n",
      "       7, 7, 4, 7, 7, 2], dtype=int64), array([6.80017422, 3.2848817 , 3.80005208, 5.70073451, 2.95131807,\n",
      "       2.19970777, 2.19970777, 5.19981324, 4.29316688, 6.80017422,\n",
      "       6.79954969, 2.20011122, 3.79983831, 7.159436  , 3.86560077,\n",
      "       3.51250183, 2.1996511 , 3.1944778 , 6.80017422, 5.84842539,\n",
      "       5.83530849, 5.19981324, 6.80021401, 3.1944778 , 5.19976003,\n",
      "       3.79983831, 2.79976666, 2.83348568, 3.79980202, 6.80017422,\n",
      "       2.19968827, 3.50449976, 4.20026526, 5.47732015, 3.86560077,\n",
      "       6.92375971, 2.95131807, 1.81947042, 5.19964878, 3.20000737,\n",
      "       6.07943949, 3.19955064, 2.58862897, 2.38245818, 2.49040472,\n",
      "       2.20009258, 2.20011122, 6.79954969, 5.19981324, 3.3373202 ,\n",
      "       2.20005018, 2.19970223, 2.20022848, 6.07943949, 1.78081228,\n",
      "       6.79982132, 5.83530849, 2.19958477, 1.1998863 , 4.20026526,\n",
      "       6.92833909, 3.20016055, 3.13808168, 2.91301076, 2.65113412,\n",
      "       3.79966351, 3.79966351, 6.80017422, 4.82952142, 3.74918173,\n",
      "       5.19981324, 6.79994126, 6.79989614, 3.19955064, 4.53308903,\n",
      "       3.80035   , 3.86956   , 4.80040653, 4.1998695 , 3.04787282,\n",
      "       1.80029246, 1.19980308, 2.83348568, 2.49040472, 3.06931401,\n",
      "       2.05635433, 2.80013187, 4.33403638, 2.58862897, 6.79954969,\n",
      "       3.57938699, 7.159436  , 4.20026526, 2.80013187, 4.65284986,\n",
      "       3.06931401, 4.9875303 , 6.04997043, 5.19964878, 5.20025828,\n",
      "       2.95413225, 6.80017422, 3.20040776, 5.83530849, 6.80017422,\n",
      "       6.80016742, 5.47732015, 2.79976666, 3.20040776, 3.80035   ,\n",
      "       3.20040776, 3.79986163, 6.79979863, 2.20011122, 3.86560077,\n",
      "       3.20040776, 2.19968827, 2.1996511 , 2.95131807, 3.80013553,\n",
      "       2.95131807, 6.80017422, 6.80017422, 6.79989614, 6.79979863,\n",
      "       7.19994837, 2.20011122, 2.80013187, 1.80040399, 3.80005208,\n",
      "       6.20627681, 2.91301076, 6.79958826, 6.80017422, 1.80029246,\n",
      "       2.49040472, 6.80017422, 7.159436  , 3.12566247, 3.50449976,\n",
      "       6.07943949, 3.58456213, 6.80016742, 2.8676459 , 5.83530849,\n",
      "       2.1996511 , 3.3373202 , 3.46091963, 6.92833909, 2.79976666,\n",
      "       2.80013187, 2.7997448 , 6.0145035 , 2.87165182, 3.82942166,\n",
      "       2.3601554 , 2.76531284, 3.19955064, 5.19964878, 1.80029246,\n",
      "       6.79979863, 6.80017422, 4.20026526, 6.80017422, 2.19959129,\n",
      "       3.80013553, 2.79976666, 3.23366332, 3.79966351, 3.89974249,\n",
      "       2.20035152, 2.19994363, 3.19955064, 4.5664558 , 3.79999228,\n",
      "       1.4419015 , 5.19964878, 1.80029246, 4.19990438, 3.80005208,\n",
      "       2.80013187, 3.79966775, 3.79966775, 3.79969194, 5.19964878,\n",
      "       6.80016742, 2.91301076, 3.43191464, 6.79989872, 1.80029246,\n",
      "       3.79966351, 2.73758198, 1.7852045 , 4.53308903, 2.78266182,\n",
      "       6.80004739, 2.16873419, 6.92833909, 5.04125608, 5.47732015,\n",
      "       2.62645381, 5.19981324, 3.80035   , 6.80016742, 2.79951824,\n",
      "       2.1996511 , 6.79979863, 6.79958826, 2.95131807, 6.80017422,\n",
      "       2.80013187, 3.80035   , 7.159436  , 3.86956   , 4.1998695 ,\n",
      "       2.200099  , 6.79989614, 5.55654203, 6.80008132, 2.19994363,\n",
      "       6.79994126, 2.95131807, 6.79989614, 6.80017422, 6.80010825,\n",
      "       2.58862897, 2.1996511 , 3.58456213, 3.3373202 , 3.19955064,\n",
      "       2.49040472, 6.80017422, 6.79954239, 2.20011122, 2.20005018,\n",
      "       6.79994126, 5.19964878, 1.81947042, 4.9168188 , 3.19955064,\n",
      "       4.19972885, 5.36621308, 2.62645381, 7.507903  , 2.58862897,\n",
      "       3.20020823, 3.13808168, 6.80021401, 2.91301076, 4.9799817 ,\n",
      "       3.80035   , 6.80017422, 2.87165182, 2.200099  , 5.20025828,\n",
      "       3.79966351, 6.92833909, 2.91301076, 3.50449976, 6.79979863,\n",
      "       2.1996511 , 3.20013792, 1.79991445, 6.79994126, 4.1998695 ,\n",
      "       2.16873419, 2.58862897, 3.58456213, 4.19990438, 6.80025092,\n",
      "       6.79989614, 2.8676459 , 2.19959129, 2.95413225, 1.7852045 ,\n",
      "       4.64933933, 5.31295701, 2.87165182, 3.14121042, 6.79954969,\n",
      "       6.80017422, 2.80013187, 3.2848817 , 3.50449976, 4.53308903,\n",
      "       6.79979863, 2.62645381, 2.8023649 , 2.37198309, 6.79958826,\n",
      "       3.79969194, 6.8000654 , 5.19981324, 2.19994363, 2.19994363,\n",
      "       5.98457907, 3.2848817 , 1.80029246, 6.79954969, 3.20040776,\n",
      "       3.86956   , 5.19981324, 2.95131807, 2.20456164, 3.58370923,\n",
      "       6.80017422, 2.78940941, 2.20028165, 6.80016742, 2.8676459 ,\n",
      "       2.62645381, 3.50449976, 5.80897183, 5.80017053, 3.20040776,\n",
      "       6.79954969, 2.20017821, 5.19999262, 2.83348568, 2.87165182,\n",
      "       5.83530849, 6.79958826, 1.80029246, 6.92833909, 3.79966351,\n",
      "       5.29795874, 6.81920204, 5.19981324, 2.20035152, 6.79954969,\n",
      "       2.98132593, 5.83530849, 2.87165182, 3.04518609, 4.20026526,\n",
      "       1.80040399, 4.19990438, 3.20020823, 3.2848817 , 4.50624658,\n",
      "       2.19970777, 2.98132593, 2.8676459 , 3.80005208, 2.19985252,\n",
      "       3.20040776, 3.08891304, 6.79982132, 2.95131807, 5.19964878,\n",
      "       1.78081228, 7.19994837, 4.80040653, 3.3373202 , 3.46091963,\n",
      "       3.50449976, 6.79976762, 1.19965155, 2.20028165, 6.79954969,\n",
      "       2.19970777, 3.80005208, 6.79979863, 3.20012769, 2.49403395,\n",
      "       3.79969194, 2.79976666, 2.20005018, 2.20009258, 4.55566592,\n",
      "       2.20022848, 2.8676459 , 2.87165182, 3.58456213, 6.80017422,\n",
      "       5.47732015, 2.60167251, 6.07943949, 6.79989614, 6.07943949,\n",
      "       6.79979863, 5.19999262, 1.78081228, 2.75648388, 2.80013187,\n",
      "       6.80017422, 2.19985252, 6.79958826, 1.80029246, 5.83530849,\n",
      "       3.85501314, 6.79958826, 2.179417  , 6.80004739, 6.79954969,\n",
      "       3.79966351, 5.83530849, 2.20011122, 6.92833909, 6.92833909,\n",
      "       6.80016742, 5.43635501, 2.79976666, 3.86560077, 6.80021401,\n",
      "       5.84842539, 7.159436  , 2.80013187, 3.80005208, 3.20026012,\n",
      "       2.80013187, 2.20022848, 6.79958826, 2.79981535, 6.80016742,\n",
      "       6.92833909, 2.73758198, 3.86956   , 2.80013187, 3.74918173,\n",
      "       3.57262376, 3.1944778 , 7.507903  , 1.7852045 , 1.80029246,\n",
      "       6.92833909, 4.82952142, 2.19959129, 6.79976762, 1.80029246,\n",
      "       2.8676459 , 2.20456164, 6.81920204, 5.80017053, 3.19955064,\n",
      "       5.19999262, 2.65113412, 2.16873419, 4.20034481, 2.58862897,\n",
      "       3.46091963, 2.7997448 , 6.80004739, 6.79979863, 2.95131807,\n",
      "       7.159436  , 2.73758198, 2.87165182, 3.20040776, 2.49040472,\n",
      "       1.7852045 , 5.20025828, 2.58862897, 4.7999352 , 3.04518609,\n",
      "       2.05635433, 6.79954969, 2.20018983, 2.20035152, 5.88276209,\n",
      "       3.79966775, 2.8676459 , 3.20040776, 5.47732015, 3.20000737,\n",
      "       4.49010829, 4.19990438, 6.07874722, 6.92833909, 3.89974249,\n",
      "       2.34812229, 6.80017422, 6.79954239, 2.83348568, 6.80017422,\n",
      "       2.73758198, 3.57938699, 5.80017053, 3.19987972, 2.19958477,\n",
      "       2.79992834, 2.3601554 , 2.20017821, 1.81947042, 7.19994837,\n",
      "       2.80013187, 3.80035   , 6.79989614, 2.87165182, 4.1998695 ,\n",
      "       6.79976762, 6.80017422, 2.80013187, 2.10822532, 2.20028165,\n",
      "       3.2848817 , 5.55654203, 5.99276262, 2.16873419, 6.79994126,\n",
      "       3.80035   , 1.7852045 , 5.29795874, 6.80017422, 3.2848817 ,\n",
      "       7.507903  , 2.80013187, 2.8676459 , 4.80008874, 6.79989614,\n",
      "       2.37198309, 5.20025828, 6.80017422, 2.58862897, 2.8676459 ,\n",
      "       2.19984194, 3.80035   , 6.92833909, 5.80017053, 2.98132593,\n",
      "       3.99876938, 5.80017053, 2.1996511 , 2.80013187, 3.89974249,\n",
      "       2.79976666, 1.79994384, 3.79966775, 6.80017422, 2.8023649 ,\n",
      "       2.20035152, 4.64933933, 2.19959129, 3.20040776, 4.2000789 ,\n",
      "       2.90685292, 3.86956   , 2.73758198, 5.55654203, 3.3373202 ,\n",
      "       6.5776188 , 4.19990438, 6.80017422, 5.19964878, 2.58862897,\n",
      "       2.16873419, 3.3373202 , 3.1944778 , 2.20009258, 3.19955064,\n",
      "       6.85742163, 6.79954239, 5.47732015, 3.20020823, 2.49040472,\n",
      "       4.20026526, 2.91301076, 6.79958826, 5.36204342, 7.19994837,\n",
      "       5.80017053, 3.74918173, 2.80013187, 6.79954969, 4.80008874,\n",
      "       6.80016742, 6.92833909, 3.80005208, 5.19999262, 2.80013187,\n",
      "       6.80017422, 1.80029246, 5.20025828, 2.80013187, 3.08891304,\n",
      "       3.57938699, 6.79954969, 3.2848817 , 3.20020823, 4.47706485,\n",
      "       4.20026526, 3.79966351, 2.87165182, 6.80016742, 2.19970777,\n",
      "       6.79954239, 2.20011122, 2.49040472, 3.20026012, 2.17081302,\n",
      "       6.80045791, 3.13808168, 6.79954239, 4.80008874, 6.79958826,\n",
      "       4.49061733, 4.18700619, 5.88407242, 1.80029246, 3.06931401]))\n"
     ]
    }
   ],
   "source": [
    "y_pred = clf.predict(X_test)\n",
    "\n",
    "\n",
    "\n",
    "print((y_test, y_pred))"
   ]
  },
  {
   "cell_type": "code",
   "execution_count": 19,
   "metadata": {},
   "outputs": [
    {
     "data": {
      "text/plain": [
       "High      365\n",
       "Medium    332\n",
       "Low       303\n",
       "Name: Level, dtype: int64"
      ]
     },
     "execution_count": 19,
     "metadata": {},
     "output_type": "execute_result"
    }
   ],
   "source": [
    "data['Level'].value_counts()"
   ]
  },
  {
   "cell_type": "code",
   "execution_count": 20,
   "metadata": {},
   "outputs": [
    {
     "data": {
      "text/plain": [
       "(1000, 25)"
      ]
     },
     "execution_count": 20,
     "metadata": {},
     "output_type": "execute_result"
    }
   ],
   "source": [
    "data.shape"
   ]
  },
  {
   "cell_type": "code",
   "execution_count": null,
   "metadata": {},
   "outputs": [
    {
     "data": {
      "text/plain": [
       "<seaborn.axisgrid.PairGrid at 0x1caef784608>"
      ]
     },
     "execution_count": 21,
     "metadata": {},
     "output_type": "execute_result"
    }
   ],
   "source": [
    "sns.pairplot(data, hue=\"Level\")"
   ]
  },
  {
   "cell_type": "code",
   "execution_count": null,
   "metadata": {},
   "outputs": [],
   "source": [
    "sns.countplot(data['Level'],label=\"Count\")"
   ]
  },
  {
   "cell_type": "code",
   "execution_count": null,
   "metadata": {},
   "outputs": [],
   "source": []
  },
  {
   "cell_type": "code",
   "execution_count": null,
   "metadata": {},
   "outputs": [],
   "source": []
  }
 ],
 "metadata": {
  "kernelspec": {
   "display_name": "Python 3",
   "language": "python",
   "name": "python3"
  },
  "language_info": {
   "codemirror_mode": {
    "name": "ipython",
    "version": 3
   },
   "file_extension": ".py",
   "mimetype": "text/x-python",
   "name": "python",
   "nbconvert_exporter": "python",
   "pygments_lexer": "ipython3",
   "version": "3.7.5"
  }
 },
 "nbformat": 4,
 "nbformat_minor": 2
}
